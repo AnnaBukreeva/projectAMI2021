{
 "cells": [
  {
   "cell_type": "markdown",
   "metadata": {},
   "source": [
    "# Проект\n",
    "## Психофизиология зрения и субъективная оценка качества компьютерных изображений\n",
    "### Букреева Анна БПМИ1910"
   ]
  },
  {
   "cell_type": "markdown",
   "metadata": {},
   "source": [
    "Импорт библиотек и необходимых функций"
   ]
  },
  {
   "cell_type": "code",
   "execution_count": null,
   "metadata": {},
   "outputs": [],
   "source": [
    "import collections\n",
    "from itertools import chain\n",
    "import urllib.request as request\n",
    "import pickle \n",
    "\n",
    "import numpy as np\n",
    "\n",
    "import scipy.signal as signal\n",
    "import scipy.special as special\n",
    "import scipy.optimize as optimize\n",
    "\n",
    "import matplotlib.pyplot as plt\n",
    "\n",
    "import skimage.io\n",
    "import skimage.transform\n",
    "\n",
    "import cv2\n",
    "\n",
    "from libsvm import svmutil"
   ]
  },
  {
   "cell_type": "markdown",
   "metadata": {},
   "source": [
    "Считывание и предобработка изображения"
   ]
  },
  {
   "cell_type": "code",
   "execution_count": null,
   "metadata": {},
   "outputs": [],
   "source": [
    "def load_image(url):\n",
    "    image_stream = request.urlopen(url)\n",
    "    return skimage.io.imread(image_stream, plugin='pil')\n",
    "\n",
    "def plot_histogram(x, label):\n",
    "    n, bins = np.histogram(x.ravel(), bins=50)\n",
    "    n = n / np.max(n)\n",
    "    plt.plot(bins[:-1], n, label=label, marker='o')"
   ]
  },
  {
   "cell_type": "code",
   "execution_count": null,
   "metadata": {},
   "outputs": [],
   "source": [
    "%matplotlib inline\n",
    "plt.rcParams[\"figure.figsize\"] = 12, 9\n",
    "\n",
    "url = 'http://www.cs.albany.edu/~xypan/research/img/Kodak/kodim05.png'\n",
    "image = load_image(url)\n",
    "gray_image = skimage.color.rgb2gray(image)\n",
    "\n",
    "investigate_image = skimage.io.imshow(image)"
   ]
  },
  {
   "cell_type": "markdown",
   "metadata": {},
   "source": [
    "Методы для оценки"
   ]
  },
  {
   "cell_type": "code",
   "execution_count": null,
   "metadata": {},
   "outputs": [],
   "source": [
    "def normalize_kernel(kernel):\n",
    "    return kernel / np.sum(kernel)\n",
    "\n",
    "def gaussian_kernel2d(n, sigma):\n",
    "    Y, X = np.indices((n, n)) - int(n/2)\n",
    "    gaussian_kernel = 1 / (2 * np.pi * sigma ** 2) * np.exp(-(X ** 2 + Y ** 2) / (2 * sigma ** 2)) \n",
    "    return normalize_kernel(gaussian_kernel)\n",
    "\n",
    "def local_mean(image, kernel):\n",
    "    return signal.convolve2d(image, kernel, 'same')"
   ]
  },
  {
   "cell_type": "code",
   "execution_count": null,
   "metadata": {},
   "outputs": [],
   "source": [
    "def local_deviation(image, local_mean, kernel):\n",
    "    \"Vectorized approximation of local deviation\"\n",
    "    sigma = image ** 2\n",
    "    sigma = signal.convolve2d(sigma, kernel, 'same')\n",
    "    return np.sqrt(np.abs(local_mean ** 2 - sigma))"
   ]
  },
  {
   "cell_type": "code",
   "execution_count": null,
   "metadata": {},
   "outputs": [],
   "source": [
    "def calculate_mscn_coefficients(image, kernel_size=6, sigma=7/6):\n",
    "    C = 1/255\n",
    "    kernel = gaussian_kernel2d(kernel_size, sigma=sigma)\n",
    "    local_mean = signal.convolve2d(image, kernel, 'same')\n",
    "    local_var = local_deviation(image, local_mean, kernel)\n",
    "    \n",
    "    return (image - local_mean) / (local_var + C)"
   ]
  },
  {
   "cell_type": "code",
   "execution_count": null,
   "metadata": {},
   "outputs": [],
   "source": [
    "def generalized_gaussian_dist(x, alpha, sigma):\n",
    "    beta = sigma * np.sqrt(special.gamma(1 / alpha) / special.gamma(3 / alpha))\n",
    "    \n",
    "    coefficient = alpha / (2 * beta() * special.gamma(1 / alpha))\n",
    "    return coefficient * np.exp(-(np.abs(x) / beta) ** alpha)"
   ]
  },
  {
   "cell_type": "code",
   "execution_count": null,
   "metadata": {},
   "outputs": [],
   "source": [
    "def calculate_brisque_features(image, kernel_size=7, sigma=7/6):\n",
    "    def calculate_features(coefficients_name, coefficients, accum=np.array([])):\n",
    "        alpha, mean, sigma_l, sigma_r = asymmetric_generalized_gaussian_fit(coefficients)\n",
    "\n",
    "        if coefficients_name == 'mscn':\n",
    "            var = (sigma_l ** 2 + sigma_r ** 2) / 2\n",
    "            return [alpha, var]\n",
    "        \n",
    "        return [alpha, mean, sigma_l ** 2, sigma_r ** 2]\n",
    "    \n",
    "    mscn_coefficients = calculate_mscn_coefficients(image, kernel_size, sigma)\n",
    "    coefficients = calculate_pair_product_coefficients(mscn_coefficients)\n",
    "    \n",
    "    features = [calculate_features(name, coeff) for name, coeff in coefficients.items()]\n",
    "    flatten_features = list(chain.from_iterable(features))\n",
    "    return np.array(flatten_features)"
   ]
  },
  {
   "cell_type": "markdown",
   "metadata": {},
   "source": [
    "Обработка полученных метрик"
   ]
  },
  {
   "cell_type": "code",
   "execution_count": null,
   "metadata": {},
   "outputs": [],
   "source": [
    "%%time \n",
    "\n",
    "mscn_coefficients = calculate_mscn_coefficients(gray_image, 7, 7/6)\n",
    "coefficients = calculate_pair_product_coefficients(mscn_coefficients)"
   ]
  },
  {
   "cell_type": "code",
   "execution_count": null,
   "metadata": {},
   "outputs": [],
   "source": [
    "%matplotlib inline\n",
    "plt.rcParams[\"figure.figsize\"] = 12, 11\n",
    "\n",
    "for name, coeff in coefficients.items():\n",
    "    plot_histogram(coeff.ravel(), name)\n",
    "\n",
    "plt.axis([-2.5, 2.5, 0, 1.05])\n",
    "plt.legend()\n",
    "plt.show()"
   ]
  },
  {
   "cell_type": "code",
   "execution_count": null,
   "metadata": {},
   "outputs": [],
   "source": [
    "%%time\n",
    "\n",
    "downscaled_image = cv2.resize(gray_image, None, fx=1/2, fy=1/2, interpolation = cv2.INTER_CUBIC)\n",
    "downscale_brisque_features = calculate_brisque_features(downscaled_image, kernel_size=7, sigma=7/6)\n",
    "\n",
    "brisque_features = np.concatenate((brisque_features, downscale_brisque_features))"
   ]
  }
 ],
 "metadata": {
  "kernelspec": {
   "display_name": "Python 3",
   "language": "python",
   "name": "python3"
  },
  "language_info": {
   "codemirror_mode": {
    "name": "ipython",
    "version": 3
   },
   "file_extension": ".py",
   "mimetype": "text/x-python",
   "name": "python",
   "nbconvert_exporter": "python",
   "pygments_lexer": "ipython3",
   "version": "3.7.4"
  }
 },
 "nbformat": 4,
 "nbformat_minor": 2
}
